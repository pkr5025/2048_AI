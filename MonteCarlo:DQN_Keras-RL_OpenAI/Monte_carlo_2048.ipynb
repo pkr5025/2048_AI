{
 "cells": [
  {
   "cell_type": "code",
   "execution_count": 231,
   "metadata": {},
   "outputs": [
    {
     "name": "stdout",
     "output_type": "stream",
     "text": [
      "The autoreload extension is already loaded. To reload it, use:\n",
      "  %reload_ext autoreload\n"
     ]
    }
   ],
   "source": [
    "from gym_2048.envs.game2048_env import Game2048Env\n",
    "import game2048_env\n",
    "import gym\n",
    "import numpy as np\n",
    "import copy\n",
    "import pandas as pd\n",
    "from collections import defaultdict\n",
    "%load_ext autoreload\n",
    "\n",
    "%autoreload 2"
   ]
  },
  {
   "cell_type": "code",
   "execution_count": 7,
   "metadata": {},
   "outputs": [
    {
     "data": {
      "text/plain": [
       "[123]"
      ]
     },
     "execution_count": 7,
     "metadata": {},
     "output_type": "execute_result"
    }
   ],
   "source": [
    "ENV_NAME = \"2048-v0\"\n",
    "env = gym.make(ENV_NAME)\n",
    "np.random.seed(123)\n",
    "env.seed(123)"
   ]
  },
  {
   "cell_type": "code",
   "execution_count": 158,
   "metadata": {
    "scrolled": false
   },
   "outputs": [
    {
     "name": "stdout",
     "output_type": "stream",
     "text": [
      "[[2 0 0 0]\n",
      " [2 0 0 0]\n",
      " [0 0 0 0]\n",
      " [0 0 0 0]]\n",
      "[0, 1, 2]\n",
      "[[2 0 0 0]\n",
      " [2 0 0 0]\n",
      " [0 0 0 0]\n",
      " [0 0 0 0]]\n"
     ]
    }
   ],
   "source": [
    "\n",
    "np.random.seed(123)\n",
    "env.seed(22)\n",
    "env.reset()\n",
    "print(env.Matrix)\n",
    "print(get_legal_move(env))\n",
    "env.step(3)\n",
    "print(env.Matrix)"
   ]
  },
  {
   "cell_type": "code",
   "execution_count": 216,
   "metadata": {},
   "outputs": [],
   "source": [
    "score_10 = []\n",
    "tile_10 = []\n",
    "score_100 = []\n",
    "tile_100 = []\n",
    "score_500 = []\n",
    "tile_500 = []\n"
   ]
  },
  {
   "cell_type": "code",
   "execution_count": 225,
   "metadata": {},
   "outputs": [],
   "source": [
    "env.seed(123)\n",
    "env.reset()\n",
    "for i in range(10):\n",
    "    score, tile = better_monte_carlo_new_random(env, 10, 20, prints=False)\n",
    "    score_10.append(score)\n",
    "    tile_10.append(tile)\n",
    "    env.reset()"
   ]
  },
  {
   "cell_type": "code",
   "execution_count": 226,
   "metadata": {},
   "outputs": [],
   "source": [
    "env.seed(123)\n",
    "env.reset()\n",
    "for i in range(5):\n",
    "    score, tile = better_monte_carlo_new_random(env, 100,0, prints=False)\n",
    "    score_100.append(score)\n",
    "    tile_100.append(tile)\n",
    "    env.reset()"
   ]
  },
  {
   "cell_type": "code",
   "execution_count": 271,
   "metadata": {},
   "outputs": [
    {
     "data": {
      "text/plain": [
       "[2048, 1024, 1024, 2048, 1024]"
      ]
     },
     "execution_count": 271,
     "metadata": {},
     "output_type": "execute_result"
    }
   ],
   "source": [
    "tile_10[0:5]"
   ]
  },
  {
   "cell_type": "code",
   "execution_count": 290,
   "metadata": {},
   "outputs": [
    {
     "data": {
      "text/html": [
       "<div>\n",
       "<style scoped>\n",
       "    .dataframe tbody tr th:only-of-type {\n",
       "        vertical-align: middle;\n",
       "    }\n",
       "\n",
       "    .dataframe tbody tr th {\n",
       "        vertical-align: top;\n",
       "    }\n",
       "\n",
       "    .dataframe thead tr th {\n",
       "        text-align: left;\n",
       "    }\n",
       "</style>\n",
       "<table border=\"1\" class=\"dataframe\">\n",
       "  <thead>\n",
       "    <tr>\n",
       "      <th></th>\n",
       "      <th colspan=\"2\" halign=\"left\">10_random_games_per_move</th>\n",
       "      <th colspan=\"2\" halign=\"left\">100_random_games_per_move</th>\n",
       "    </tr>\n",
       "    <tr>\n",
       "      <th></th>\n",
       "      <th>best_tile</th>\n",
       "      <th>score</th>\n",
       "      <th>best_tile</th>\n",
       "      <th>score</th>\n",
       "    </tr>\n",
       "  </thead>\n",
       "  <tbody>\n",
       "    <tr>\n",
       "      <th>game 0</th>\n",
       "      <td>2048</td>\n",
       "      <td>27508.0</td>\n",
       "      <td>2048</td>\n",
       "      <td>36604.0</td>\n",
       "    </tr>\n",
       "    <tr>\n",
       "      <th>game 1</th>\n",
       "      <td>1024</td>\n",
       "      <td>12404.0</td>\n",
       "      <td>4096</td>\n",
       "      <td>60632.0</td>\n",
       "    </tr>\n",
       "    <tr>\n",
       "      <th>game 2</th>\n",
       "      <td>1024</td>\n",
       "      <td>14572.0</td>\n",
       "      <td>4096</td>\n",
       "      <td>60700.0</td>\n",
       "    </tr>\n",
       "    <tr>\n",
       "      <th>game 3</th>\n",
       "      <td>2048</td>\n",
       "      <td>32308.0</td>\n",
       "      <td>2048</td>\n",
       "      <td>36216.0</td>\n",
       "    </tr>\n",
       "    <tr>\n",
       "      <th>game 4</th>\n",
       "      <td>1024</td>\n",
       "      <td>16164.0</td>\n",
       "      <td>2048</td>\n",
       "      <td>34592.0</td>\n",
       "    </tr>\n",
       "  </tbody>\n",
       "</table>\n",
       "</div>"
      ],
      "text/plain": [
       "       10_random_games_per_move          100_random_games_per_move         \n",
       "                      best_tile    score                 best_tile    score\n",
       "game 0                     2048  27508.0                      2048  36604.0\n",
       "game 1                     1024  12404.0                      4096  60632.0\n",
       "game 2                     1024  14572.0                      4096  60700.0\n",
       "game 3                     2048  32308.0                      2048  36216.0\n",
       "game 4                     1024  16164.0                      2048  34592.0"
      ]
     },
     "execution_count": 290,
     "metadata": {},
     "output_type": "execute_result"
    }
   ],
   "source": [
    "a = pd.MultiIndex.from_tuples([(\"10_random_games_per_move\", \"best_tile\"), \n",
    "                         (\"10_random_games_per_move\", \"score\"),\n",
    "                          (\"100_random_games_per_move\", \"best_tile\"),\n",
    "                          (\"100_random_games_per_move\", \"score\")])\n",
    "df = pd.DataFrame({\"best_tile_10\": tile_10[0:5], \"score_10\": score_10[0:5], \"best_tile_100\": tile_100,  \"score_100\":score_100})\n",
    "df.columns = a\n",
    "df.index = [\"game 0\", \"game 1\", \"game 2\", \"game 3\",\"game 4\"]\n",
    "df"
   ]
  },
  {
   "cell_type": "code",
   "execution_count": 224,
   "metadata": {},
   "outputs": [],
   "source": [
    "def better_monte_carlo_new_random(game, number_of_games, depth, prints = False):\n",
    "    \n",
    "    def get_legal_moves(game):\n",
    "        legal_moves = []\n",
    "        temp_game =copy.deepcopy(game)\n",
    "        Matrix = copy.deepcopy(game.Matrix)\n",
    "        for i in range(4):\n",
    "            temp_game.step(i)\n",
    "            if not np.array_equal(temp_game.Matrix, Matrix):\n",
    "                legal_moves.append(i)\n",
    "                temp_game.Matrix = copy.deepcopy(Matrix)\n",
    "        return legal_moves\n",
    "            \n",
    "    def random_game_initial_score(game, depth, initial_move):\n",
    "        counter =0\n",
    "        _,_, lost, _ = game.step(initial_move)\n",
    "        while ( not lost):\n",
    "             _, _, lost, _ = game.step(np.random.randint(4))\n",
    "        return initial_move, game.score\n",
    "    def getmove(game, number_of_games):\n",
    "        grids = []\n",
    "        possible_moves = get_legal_moves(game)\n",
    "#        print(possible_moves)\n",
    "        for i in range(number_of_games):\n",
    "            grids.append(copy.deepcopy(game))\n",
    "        move_scores = defaultdict(list)\n",
    "        i=0\n",
    "        for games in grids:\n",
    "            initial_move, score = random_game_initial_score(games, depth, possible_moves[i])\n",
    "            move_scores[initial_move].append( score)\n",
    "            i+=1\n",
    "            i=i%(len(possible_moves))\n",
    "        score = 0\n",
    "        for key, value in move_scores.items():\n",
    "            if (prints == True):\n",
    "                print(key,sum(value)/len(value))\n",
    "            if (sum(value)/len(value) >score ):\n",
    "                    move = key\n",
    "                    score = sum(value)/len(value)\n",
    "        if (prints == True):\n",
    "            print(move, score)\n",
    "        return move\n",
    "            \n",
    "\n",
    "    states = []\n",
    "    lost = False\n",
    "    while (not lost):\n",
    "        move = getmove(game, number_of_games)\n",
    "        if (prints == True):\n",
    "            print(game.Matrix)\n",
    "        _, _, lost, _ = game.step(move)\n",
    "    return(game.score, game.highest())\n",
    "    #return states"
   ]
  },
  {
   "cell_type": "code",
   "execution_count": 215,
   "metadata": {},
   "outputs": [
    {
     "data": {
      "text/plain": [
       "2048"
      ]
     },
     "execution_count": 215,
     "metadata": {},
     "output_type": "execute_result"
    }
   ],
   "source": [
    "env.highest()"
   ]
  },
  {
   "cell_type": "code",
   "execution_count": null,
   "metadata": {},
   "outputs": [],
   "source": []
  }
 ],
 "metadata": {
  "kernelspec": {
   "display_name": "learn-env",
   "language": "python",
   "name": "learn-env"
  },
  "language_info": {
   "codemirror_mode": {
    "name": "ipython",
    "version": 3
   },
   "file_extension": ".py",
   "mimetype": "text/x-python",
   "name": "python",
   "nbconvert_exporter": "python",
   "pygments_lexer": "ipython3",
   "version": "3.6.6"
  }
 },
 "nbformat": 4,
 "nbformat_minor": 2
}
